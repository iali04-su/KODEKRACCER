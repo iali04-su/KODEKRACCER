{
 "cells": [
  {
   "cell_type": "code",
<<<<<<< HEAD
   "execution_count": 3,
=======
   "execution_count": null,
>>>>>>> 0132350cb52acd6c4d5fcba4706d0a21805f0b9e
   "metadata": {},
   "outputs": [
    {
     "name": "stdout",
     "output_type": "stream",
     "text": [
<<<<<<< HEAD
      "YOU MUST GUESS THE PASSWORD. WITH EACH GUESS I WILL GO THROUGH EACH LETTER AND SAY CORRECT IF IT IS IN THE RIGHT POSITION, ALMOST IF IT IS IN THE WRONG POSITION, AND WRONG IF IT IS NOT IN THE PASSWORD. YOUR SCORE IS BASED ON YOUR NUMBER OF GUESSES.\n",
      "Easy, Hard, or Extreme?a\n",
      "Oops, that's not an answer. \n",
      "Easy, Hard, or Extreme?easy\n",
      "walk\n",
      "Take a guess.walk\n",
      "CORRECT\n",
      "99\n",
      "Would you like to play again?no\n"
=======
      "YOU MUST GUESS THE PASSWORD. WITH EACH GUESS I WILL GO THROUGH EACH LETTER AND SAY CORRECT IF IT IS IN THE RIGHT POSITION, ALMOST IF IT IS IN THE PASSWORD BUT IS IN THE WRONG POSITION, AND WRONG IF IT IS NOT IN THE PASSWORD. YOUR SCORE IS BASED ON YOUR NUMBER OF GUESSES.\n",
      "Easy, Hard, or Extreme?easy\n",
      "happy\n",
      "Take a guess.lap\n",
      "l Wrong\n",
      "a Correct\n",
      "p Correct\n",
      "Take a guess.pop\n",
      "p Almost\n",
      "o Wrong\n",
      "p Almost\n",
      "Take a guess.hay\n",
      "h Correct\n",
      "a Correct\n",
      "y Almost\n",
      "Take a guess.happy\n",
      "CORRECT\n",
      "Your score is 96.\n"
>>>>>>> 0132350cb52acd6c4d5fcba4706d0a21805f0b9e
     ]
    }
   ],
   "source": [
    "while True:\n",
<<<<<<< HEAD
    "    print(\"YOU MUST GUESS THE PASSWORD. WITH EACH GUESS I WILL GO THROUGH EACH LETTER AND SAY CORRECT IF IT IS IN THE RIGHT POSITION, ALMOST IF IT IS IN THE WRONG POSITION, AND WRONG IF IT IS NOT IN THE PASSWORD. YOUR SCORE IS BASED ON YOUR NUMBER OF GUESSES.\")\n",
=======
    "    print(\"YOU MUST GUESS THE PASSWORD. WITH EACH GUESS I WILL GO THROUGH EACH LETTER AND SAY CORRECT IF IT IS IN THE RIGHT POSITION, ALMOST IF IT IS IN THE PASSWORD BUT IS IN THE WRONG POSITION, AND WRONG IF IT IS NOT IN THE PASSWORD. YOUR SCORE IS BASED ON YOUR NUMBER OF GUESSES.\")\n",
>>>>>>> 0132350cb52acd6c4d5fcba4706d0a21805f0b9e
    "    while True:\n",
    "        difficulty=input(\"Easy, Hard, or Extreme?\")\n",
    "        import random\n",
    "        if difficulty=='easy' or difficulty=='Easy' or difficulty=='EASY':\n",
<<<<<<< HEAD
    "            wordslist=['dog', 'walk', 'vomit', 'food', 'happy', 'fish', 'lunch', 'jazz', 'blue', 'rare', 'key']\n",
    "            break\n",
    "        if difficulty=='hard' or difficulty=='Hard' or difficulty=='HARD':\n",
    "            wordslist=['village', 'chicken', 'narwhal', 'fungus', 'donkey', 'strange', 'donate',]\n",
    "            break\n",
    "        if difficulty=='extreme' or difficulty=='Extreme' or difficulty=='EXTREME':\n",
    "            wordslist=['delectable', 'australopithecus', 'ubermensch', 'cattywampus', 'counterclockwise']\n",
=======
    "            wordslist=['dog', 'walk', 'vomit', 'food', 'happy', 'fish', 'lunch', 'jazz', 'blue', 'rare', 'key','fruit']\n",
    "            break\n",
    "        if difficulty=='hard' or difficulty=='Hard' or difficulty=='HARD':\n",
    "            wordslist=['village', 'chicken', 'narwhal', 'fungus', 'donkey', 'strange', 'donate', 'burger']\n",
    "            break\n",
    "        if difficulty=='extreme' or difficulty=='Extreme' or difficulty=='EXTREME':\n",
    "            wordslist=['lollygagging', 'australopithecus', 'kafkaesque', 'cattywampus', 'counterclockwise', 'discombobulate']\n",
>>>>>>> 0132350cb52acd6c4d5fcba4706d0a21805f0b9e
    "            break\n",
    "        else:\n",
    "            print(\"Oops, that's not an answer. \")\n",
    "        \n",
    "    password=random.choice(wordslist)\n",
    "    guess_count=int(0)\n",
    "    print(password)\n",
    "    while True:\n",
    "        word=input(\"Take a guess.\")\n",
<<<<<<< HEAD
=======
    "        word=word.lower()\n",
    "        guess_count=guess_count+1\n",
>>>>>>> 0132350cb52acd6c4d5fcba4706d0a21805f0b9e
    "        if word==password:\n",
    "            print(\"CORRECT\")\n",
    "            break\n",
    "        for i in word:\n",
    "            try:\n",
    "                pos=password.index(i)\n",
    "                if pos==word.index(i):\n",
    "                    print(\"%s Correct\" %(i))\n",
    "                else:\n",
    "                    print(\"%s Almost\" %(i))\n",
    "            except:\n",
    "                print(\"%s Wrong\" %(i))\n",
<<<<<<< HEAD
    "    guess_count=guess_count+1\n",
    "    score=100-guess_count\n",
    "    print(score)\n",
=======
    "   \n",
    "    score=100-guess_count\n",
    "    print(\"Your score is %d.\" %(score))\n",
>>>>>>> 0132350cb52acd6c4d5fcba4706d0a21805f0b9e
    "    end=input(\"Would you like to play again?\")\n",
    "    if end=='no' or end=='No' or end=='NO' or end=='nope' or end== 'Nope' or end =='NOPE':\n",
    "        break"
   ]
  },
  {
   "cell_type": "code",
   "execution_count": null,
   "metadata": {},
   "outputs": [],
   "source": []
  },
  {
   "cell_type": "code",
   "execution_count": null,
   "metadata": {},
   "outputs": [],
   "source": []
  }
 ],
 "metadata": {
  "kernelspec": {
   "display_name": "Python 3",
   "language": "python",
   "name": "python3"
  },
  "language_info": {
   "codemirror_mode": {
    "name": "ipython",
    "version": 3
   },
   "file_extension": ".py",
   "mimetype": "text/x-python",
   "name": "python",
   "nbconvert_exporter": "python",
   "pygments_lexer": "ipython3",
   "version": "3.6.6"
  }
 },
 "nbformat": 4,
 "nbformat_minor": 2
}
