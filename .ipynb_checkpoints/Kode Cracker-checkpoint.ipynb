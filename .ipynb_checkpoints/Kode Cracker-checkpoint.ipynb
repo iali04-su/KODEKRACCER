{
 "cells": [
  {
   "cell_type": "code",
<<<<<<< HEAD
<<<<<<< HEAD
   "execution_count": 3,
=======
   "execution_count": null,
>>>>>>> 0132350cb52acd6c4d5fcba4706d0a21805f0b9e
=======
   "execution_count": 1,
>>>>>>> 7b6128b02a53edee2995aa8d7b4c60d98520f19b
   "metadata": {},
   "outputs": [
    {
     "name": "stdout",
     "output_type": "stream",
     "text": [
<<<<<<< HEAD
      "YOU MUST GUESS THE PASSWORD. WITH EACH GUESS I WILL GO THROUGH EACH LETTER AND SAY CORRECT IF IT IS IN THE RIGHT POSITION, ALMOST IF IT IS IN THE WRONG POSITION, AND WRONG IF IT IS NOT IN THE PASSWORD. YOUR SCORE IS BASED ON YOUR NUMBER OF GUESSES.\n",
      "Easy, Hard, or Extreme?a\n",
      "Oops, that's not an answer. \n",
      "Easy, Hard, or Extreme?easy\n",
      "walk\n",
      "Take a guess.walk\n",
      "CORRECT\n",
      "99\n",
      "Would you like to play again?no\n"
=======
      "YOU MUST GUESS THE PASSWORD. WITH EACH GUESS I WILL GO THROUGH EACH LETTER AND SAY CORRECT IF IT IS IN THE RIGHT POSITION, ALMOST IF IT IS IN THE PASSWORD BUT IS IN THE WRONG POSITION, AND WRONG IF IT IS NOT IN THE PASSWORD. YOUR SCORE IS BASED ON YOUR NUMBER OF GUESSES.\n",
      "Easy, Hard, or Extreme?easy\n",
      "The word is 5 letters long\n",
      "Take a guess.D I S C O\n",
      "d Wrong\n",
      "  Wrong\n",
      "i Almost\n",
      "  Wrong\n",
      "s Wrong\n",
      "  Wrong\n",
      "c Wrong\n",
      "  Wrong\n",
      "o Wrong\n",
      "Take a guess.fruit\n",
      "CORRECT\n",
<<<<<<< HEAD
      "Your score is 96.\n"
>>>>>>> 0132350cb52acd6c4d5fcba4706d0a21805f0b9e
=======
      "Your score is 96.\n",
      "Would you like to play again?no\n"
>>>>>>> 7b6128b02a53edee2995aa8d7b4c60d98520f19b
     ]
    }
   ],
   "source": [
    "while True:\n",
<<<<<<< HEAD
    "    print(\"YOU MUST GUESS THE PASSWORD. WITH EACH GUESS I WILL GO THROUGH EACH LETTER AND SAY CORRECT IF IT IS IN THE RIGHT POSITION, ALMOST IF IT IS IN THE WRONG POSITION, AND WRONG IF IT IS NOT IN THE PASSWORD. YOUR SCORE IS BASED ON YOUR NUMBER OF GUESSES.\")\n",
=======
    "    print(\"YOU MUST GUESS THE PASSWORD. WITH EACH GUESS I WILL GO THROUGH EACH LETTER AND SAY CORRECT IF IT IS IN THE RIGHT POSITION, ALMOST IF IT IS IN THE PASSWORD BUT IS IN THE WRONG POSITION, AND WRONG IF IT IS NOT IN THE PASSWORD. YOUR SCORE IS BASED ON YOUR NUMBER OF GUESSES.\")\n",
>>>>>>> 0132350cb52acd6c4d5fcba4706d0a21805f0b9e
    "    while True:\n",
    "        difficulty=input(\"Easy, Hard, or Extreme?\")\n",
    "        import random\n",
    "        if difficulty=='easy' or difficulty=='Easy' or difficulty=='EASY':\n",
<<<<<<< HEAD
<<<<<<< HEAD
    "            wordslist=['dog', 'walk', 'vomit', 'food', 'happy', 'fish', 'lunch', 'jazz', 'blue', 'rare', 'key']\n",
    "            break\n",
    "        if difficulty=='hard' or difficulty=='Hard' or difficulty=='HARD':\n",
    "            wordslist=['village', 'chicken', 'narwhal', 'fungus', 'donkey', 'strange', 'donate',]\n",
    "            break\n",
    "        if difficulty=='extreme' or difficulty=='Extreme' or difficulty=='EXTREME':\n",
    "            wordslist=['delectable', 'australopithecus', 'ubermensch', 'cattywampus', 'counterclockwise']\n",
=======
    "            wordslist=['dog', 'walk', 'vomit', 'food', 'happy', 'fish', 'lunch', 'jazz', 'blue', 'rare', 'key','fruit']\n",
=======
    "            wordslist=['dog', 'walk', 'bad', 'food', 'happy', 'fish', 'lunch', 'jazz', 'blue', 'rare', 'key','fruit','meme', 'drip', 'pill', 'fool', 'flex', 'disco', 'slice', 'brick', 'bee','lake', 'core']\n",
>>>>>>> 7b6128b02a53edee2995aa8d7b4c60d98520f19b
    "            break\n",
    "        if difficulty=='hard' or difficulty=='Hard' or difficulty=='HARD':\n",
    "            wordslist=['village', 'spongebob', 'narwhal', 'fungus', 'donkey', 'strange', 'donate', 'burger', 'potato','dropkick','tornado','welfare','culture', 'mystery', 'finance', 'vicious', 'string', 'pavement', 'sunrise', 'struggle' ]\n",
    "            break\n",
    "        if difficulty=='extreme' or difficulty=='Extreme' or difficulty=='EXTREME':\n",
<<<<<<< HEAD
    "            wordslist=['lollygagging', 'australopithecus', 'kafkaesque', 'cattywampus', 'counterclockwise', 'discombobulate']\n",
>>>>>>> 0132350cb52acd6c4d5fcba4706d0a21805f0b9e
=======
    "            wordslist=['lollygagging', 'australopithecus', 'kafkaesque', 'cattywampus', 'counterclockwise', 'discombobulate', 'bamboozled', 'hippopotamus', 'semiconductor','facetious', 'conglomerate', 'evisceration', 'fluctuation', 'censorship']\n",
>>>>>>> 7b6128b02a53edee2995aa8d7b4c60d98520f19b
    "            break\n",
    "        else:\n",
    "            print(\"Oops, that's not an answer. \")\n",
    "        \n",
    "    password=random.choice(wordslist)\n",
    "    guess_count=int(0)\n",
    "    length=len(password)\n",
    "    print(\"The word is %d letters long\" %(length))\n",
    "    while True:\n",
    "        word=input(\"Take a guess.\")\n",
<<<<<<< HEAD
=======
    "        word=word.lower()\n",
    "        guess_count=guess_count+1\n",
>>>>>>> 0132350cb52acd6c4d5fcba4706d0a21805f0b9e
    "        if word==password:\n",
    "            print(\"CORRECT\")\n",
    "            break\n",
    "        for i in word:\n",
    "            try:\n",
    "                pos=password.index(i)\n",
    "                if pos==word.index(i):\n",
    "                    print(\"%s Correct\" %(i))\n",
    "                else:\n",
    "                    print(\"%s Almost\" %(i))\n",
    "            except:\n",
    "                print(\"%s Wrong\" %(i))\n",
<<<<<<< HEAD
    "    guess_count=guess_count+1\n",
    "    score=100-guess_count\n",
    "    print(score)\n",
=======
    "   \n",
    "    score=100-guess_count*2\n",
    "    print(\"Your score is %d.\" %(score))\n",
>>>>>>> 0132350cb52acd6c4d5fcba4706d0a21805f0b9e
    "    end=input(\"Would you like to play again?\")\n",
    "    if end=='no' or end=='No' or end=='NO' or end=='nope' or end== 'Nope' or end =='NOPE' or end =='nah' or end=='Nah' or end=='NAH':\n",
    "        break"
   ]
  },
  {
   "cell_type": "code",
   "execution_count": null,
   "metadata": {},
   "outputs": [],
   "source": []
  },
  {
   "cell_type": "code",
   "execution_count": null,
   "metadata": {},
   "outputs": [],
   "source": []
  }
 ],
 "metadata": {
  "kernelspec": {
   "display_name": "Python 3",
   "language": "python",
   "name": "python3"
  },
  "language_info": {
   "codemirror_mode": {
    "name": "ipython",
    "version": 3
   },
   "file_extension": ".py",
   "mimetype": "text/x-python",
   "name": "python",
   "nbconvert_exporter": "python",
   "pygments_lexer": "ipython3",
   "version": "3.6.6"
  }
 },
 "nbformat": 4,
 "nbformat_minor": 2
}
