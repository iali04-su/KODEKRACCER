{
 "cells": [
  {
   "cell_type": "markdown",
   "metadata": {},
   "source": [
    "  ##                                                 KODE KRACCER"
   ]
  },
  {
   "cell_type": "markdown",
   "metadata": {},
   "source": [
    "## Problem Analysis\n",
    "\n",
    "input:\n",
    "- user inputs difficulty\n",
    "- user inputs number\n",
    " \n",
    "output:\n",
    "- random numbers based on diffuculty\n",
    "- a random word to crack\n",
    "- timer\n",
    "\n",
    "Algorithm:\n",
    "1. first we need a list of a ton of english words to generar\n",
    "2. convert the words into letters so it could be cracked\n",
    "3. make a function that allows user to change the letter back to the letter if correct number is typed\n",
    "\n"
   ]
  },
  {
   "cell_type": "markdown",
   "metadata": {},
   "source": [
    "## Notes\n",
    "\n",
    "- Difficulty will define the length of the words\n",
    "- use the .sleep function for the timer"
   ]
  },
  {
   "cell_type": "code",
   "execution_count": null,
   "metadata": {},
   "outputs": [
    {
     "name": "stdout",
     "output_type": "stream",
     "text": [
      "\u001b[1;31;40m Bright Red \n",
      "\n",
      "antimonic\n"
     ]
    }
   ],
   "source": [
    "import random  #Importing random module \n",
    "import time\n",
    "import nltk\n",
    "from nltk.corpus import words\n",
    "\n",
    "\n",
    "print(\"\\033[1;31;40m Bright Red \\n\")\n",
    "\n",
    "wordlist = words.words()[99:100000]\n",
    "print(random.choice(wordlist))\n",
    "input_text = input(\"Enter text: \")\n",
    "time.sleep(10)\n",
    "\n",
    "print(\"you lose\")\n",
    "\n"
   ]
  },
  {
   "cell_type": "code",
   "execution_count": null,
   "metadata": {},
   "outputs": [],
   "source": []
  }
 ],
 "metadata": {
  "kernelspec": {
   "display_name": "Python 3",
   "language": "python",
   "name": "python3"
  },
  "language_info": {
   "codemirror_mode": {
    "name": "ipython",
    "version": 3
   },
   "file_extension": ".py",
   "mimetype": "text/x-python",
   "name": "python",
   "nbconvert_exporter": "python",
   "pygments_lexer": "ipython3",
   "version": "3.6.6"
  }
 },
 "nbformat": 4,
 "nbformat_minor": 2
}
