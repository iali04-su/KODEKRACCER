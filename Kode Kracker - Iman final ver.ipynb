{
 "cells": [
  {
   "cell_type": "markdown",
   "metadata": {},
   "source": [
    "  ##                                                 KODE KRACKER"
   ]
  },
  {
   "cell_type": "markdown",
   "metadata": {},
   "source": [
    "## Problem Analysis\n",
    "\n",
    "input:\n",
    "- user inputs difficulty\n",
    "- user inputs number\n",
    " \n",
    "output:\n",
    "- random numbers based on diffuculty\n",
    "- a random word to crack\n",
    "- timer\n",
    "\n",
    "Algorithm:\n",
    "1. first we need a list of a ton of english words to generar\n",
    "2. convert the words into letters so it could be cracked\n",
    "3. make a function that allows user to change the letter back to the letter if correct number is typed\n",
    "\n"
   ]
  },
  {
   "cell_type": "markdown",
   "metadata": {},
   "source": [
    "## Notes\n",
    "\n",
    "- Difficulty will define the length of the words\n",
    "- use the .sleep function for the timer"
   ]
  },
  {
   "cell_type": "code",
   "execution_count": null,
   "metadata": {},
   "outputs": [],
   "source": []
  },
  {
   "cell_type": "code",
   "execution_count": null,
   "metadata": {},
   "outputs": [],
   "source": []
  },
  {
   "cell_type": "code",
   "execution_count": null,
   "metadata": {},
   "outputs": [
    {
     "data": {
      "text/html": [
       "<h1> KODE KRACKER </h1>"
      ],
      "text/plain": [
       "<IPython.core.display.HTML object>"
      ]
     },
     "metadata": {},
     "output_type": "display_data"
    },
    {
     "name": "stdout",
     "output_type": "stream",
     "text": [
      "How to play:\n",
      "This game is simple. Just guess a word and if the character is in the right position then you will be told that it is. \n",
      " If it isnt, it will tell you that its incorrect. Memorize what you can and try to get it in under 5 tries or you lose. \n",
      " This game is extremely hard even at easy\n"
     ]
    }
   ],
   "source": [
    "import random  #Importing random module \n",
    "import time\n",
    "import nltk     #This module is for a giant list of english words\n",
    "from nltk.corpus import words\n",
    "from IPython.display import display, HTML\n",
    "import pyttsx3 #TEXT TO SPEECH\n",
    "import winsound #setting the mood with chill music\n",
    "\n",
    "#This displays the text in a larger format\n",
    "display(HTML(\"<h1> KODE KRACKER </h1>\"))\n",
    "\n",
    "engine = pyttsx3.init()\n",
    "engine.say(\"Welcome to Code Cracker\")\n",
    "engine.runAndWait()\n",
    "\n",
    "wordlist = words.words()\n",
    "s = wordlist\n",
    "\n",
    "#This is the rules for the game and prompts user to type ready when theyre ready\n",
    "print(\"How to play:\\nThis game is simple. Just guess a word and if the character is in the right position then you will be told that it is. \\n If it isnt, it will tell you that its incorrect. Memorize what you can and try to get it in under 5 tries or you lose. \\n This game is extremely hard even at easy\")\n",
    "#reads how to play the game\n",
    "engine = pyttsx3.init()\n",
    "engine.say(\"Alright listen up everyone. This game is simple. Just guess a word and if the character is in the right position then you will be told that it is. If it isnt, it will tell you that its incorrect. Memorize what you can and try to get it in under 5 tries or you lose. This game is extremely hard even at easy. hahahaha. ahem good luck\")\n",
    "engine.runAndWait()\n",
    "winsound.PlaySound('jamesbond.wav', winsound.SND_LOOP + winsound.SND_ASYNC)  #Allows for sound to play and loop\n",
    "# loop for game: this will allow the game to iterate over again\n",
    "while True:\n",
    "    print('-'*40)\n",
    "    #User inputs a difficulty to play on. Each difficulty has different set of rules\n",
    "    while True:\n",
    "        print(\"Choose your difficulty\")\n",
    "        engine = pyttsx3.init()\n",
    "        engine.say(\"Choose your difficulty and please put easy hard or extreme\")\n",
    "        engine.runAndWait()\n",
    "        difficulty=input(\"Easy, Hard, or Extreme?: \")\n",
    "        difficulty = difficulty.lower()\n",
    "        if difficulty == 'easy':                                        #Difficulty is Easy\n",
    "            print(\"Your word length is 4\")\n",
    "            engine = pyttsx3.init()\n",
    "            engine.say(\"Your word length is 4\")\n",
    "            engine.runAndWait()\n",
    "            s = wordlist\n",
    "            character = [word for word in s if len(word) == 4 and word.isalpha()] #sets it so theres only 4 character words\n",
    "            break\n",
    "        if difficulty == 'hard':                                         #Difficulty is hard\n",
    "            print(\"Your word length is 7\")\n",
    "            engine = pyttsx3.init()\n",
    "            engine.say(\"Your word length is 7\")\n",
    "            engine.runAndWait()\n",
    "            s = wordlist\n",
    "            character = [word for word in s if len(word) == 7 and word.isalpha()] #sets it so theres only 7 character words\n",
    "            break\n",
    "        if difficulty == 'extreme':                                       #Difficulty is extreme\n",
    "            print(\"Your word length is 10\")\n",
    "            engine = pyttsx3.init()\n",
    "            engine.say(\"Your word length is 10\")\n",
    "            engine.runAndWait()\n",
    "            s = wordlist\n",
    "            character = [word for word in s if len(word) == 10 and word.isalpha()] #sets it so theres only 10 character words\n",
    "            break\n",
    "        else:\n",
    "            print(\"Oops, that's not an answer. \")\n",
    "    print('-'*40)        \n",
    "    password = random.choice(character)\n",
    "    guess_count = 6        \n",
    "    while True:\n",
    "        word=input(\"Take a guess: \\n\")      #User guesses the code\n",
    "        word=word.lower()\n",
    "        guess_count=guess_count-1            #Everytime the user is wrong, they lose tries\n",
    "        print('-'*40)\n",
    "        if word==password:\n",
    "            print(\"CORRECT\")\n",
    "            break\n",
    "        for i in word:\n",
    "            try:\n",
    "                pos = password.index(i)\n",
    "                if pos == word.index(i):\n",
    "                    print(\"%s Correct\" %(i))\n",
    "                else:\n",
    "                    print(\"%s Almost\" %(i))\n",
    "            except:\n",
    "                print(\"%s Wrong\" %(i))\n",
    "        #Each time they dont get the word,they get less guesses\n",
    "        print('-'*40)\n",
    "        if guess_count == 5:\n",
    "            print(\"You have 5 guesses left\")\n",
    "            engine = pyttsx3.init()\n",
    "            engine.say(\"You have 5 guesses left\")\n",
    "            engine.runAndWait()\n",
    "        elif guess_count == 4:\n",
    "            print(\"You have 4 guesses left\")\n",
    "            engine = pyttsx3.init()\n",
    "            engine.say(\"You have 4 guesses left\")\n",
    "            engine.runAndWait()\n",
    "        elif guess_count == 3:\n",
    "            print(\"You have 3 guesses left\")\n",
    "            engine = pyttsx3.init()\n",
    "            engine.say(\"You have 3 guesses left\")\n",
    "            engine.runAndWait()\n",
    "            engine = pyttsx3.init()\n",
    "            engine.say(\"Would you like a hint? if you do not type yes, we will continue\")\n",
    "            engine.runAndWait()\n",
    "        elif guess_count == 2:\n",
    "            print(\"You have 2 guesses left\")\n",
    "            engine = pyttsx3.init()\n",
    "            engine.say(\"You have 2 guesses left\")\n",
    "            engine.runAndWait()\n",
    "        elif guess_count == 1:\n",
    "            print(\"You have 1 guess left\")\n",
    "            engine = pyttsx3.init()\n",
    "            engine.say(\"You have 1 guess left\")\n",
    "            engine.runAndWait()\n",
    "        elif guess_count == 0:\n",
    "            print(\"You lose\")\n",
    "            engine = pyttsx3.init()\n",
    "            engine.say(\"You lose. Hahahahaha\")\n",
    "            engine.runAndWait()\n",
    "            break\n",
    "    print('-'*40)\n",
    "    print(\"The word was\", password)              # Password is revealed at the end\n",
    "    engine = pyttsx3.init()\n",
    "    engine.say(\"The word was\", password)\n",
    "    engine.runAndWait()\n",
    "    print('-'*40)\n",
    "    \n",
    "    engine = pyttsx3.init()\n",
    "    engine.say(\"Would you like to play again? type no to exit. Anything else will count as yes\")\n",
    "    engine.runAndWait()\n",
    "    playagain = input(\"Would you like to play again? \\n\")       #User can choose to play again\n",
    "    playagain = playagain.lower()\n",
    "    if playagain == 'no':\n",
    "        engine = pyttsx3.init()\n",
    "        engine.say(\"Awww, I guess our fun is over\")\n",
    "        engine.runAndWait()\n",
    "        break\n",
    "        \n",
    "winsound.PlaySound(None, winsound.SND_PURGE)        \n",
    "print(\"Thanks for playing \\n Now Exiting....\")   \n",
    "engine = pyttsx3.init()\n",
    "engine.say(\"Thanks for playing\")\n",
    "engine.runAndWait()\n",
    "\n"
   ]
  },
  {
   "cell_type": "code",
   "execution_count": null,
   "metadata": {},
   "outputs": [],
   "source": []
  },
  {
   "cell_type": "raw",
   "metadata": {},
   "source": [
    "\n"
   ]
  }
 ],
 "metadata": {
  "kernelspec": {
   "display_name": "Python 3",
   "language": "python",
   "name": "python3"
  },
  "language_info": {
   "codemirror_mode": {
    "name": "ipython",
    "version": 3
   },
   "file_extension": ".py",
   "mimetype": "text/x-python",
   "name": "python",
   "nbconvert_exporter": "python",
   "pygments_lexer": "ipython3",
   "version": "3.6.6"
  }
 },
 "nbformat": 4,
 "nbformat_minor": 2
}
