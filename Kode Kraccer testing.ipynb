{
 "cells": [
  {
   "cell_type": "markdown",
   "metadata": {},
   "source": [
    "  ##                                                 KODE KRACCER"
   ]
  },
  {
   "cell_type": "markdown",
   "metadata": {},
   "source": [
    "## Problem Analysis\n",
    "\n",
    "input:\n",
    "- user inputs difficulty\n",
    "- user inputs number\n",
    " \n",
    "output:\n",
    "- random numbers based on diffuculty\n",
    "- a random word to crack\n",
    "- timer\n",
    "\n",
    "Algorithm:\n",
    "1. first we need a list of a ton of english words to generar\n",
    "2. convert the words into letters so it could be cracked\n",
    "3. make a function that allows user to change the letter back to the letter if correct number is typed\n",
    "\n"
   ]
  },
  {
   "cell_type": "markdown",
   "metadata": {},
   "source": [
    "## Notes\n",
    "\n",
    "- Difficulty will define the length of the words\n",
    "- use the .sleep function for the timer"
   ]
  },
  {
   "cell_type": "code",
   "execution_count": null,
   "metadata": {},
   "outputs": [],
   "source": [
    "import random  #Importing random module \n",
    "import time\n",
    "import nltk\n",
    "from nltk.corpus import words\n",
    "from IPython.display import display, HTML\n",
    "\n",
    "display(HTML(\"<h1> KODE KRACCER </h1>\"))\n",
    "\n",
    "\n",
    "wordlist = words.words()\n",
    "print(wordlist)\n",
    "print(random.choice(wordlist))\n",
    "time.sleep(10)\n",
    "\n",
    "print(\"you lose\")\n",
    "\n",
    "while True:\n",
    "    print(\"Choose your difficulty\") \n",
    "    difficulty=input(\"Easy, Hard, or Extreme?: \")\n",
    "    difficulty.lower()\n",
    "    if difficulty=='easy':\n",
    "        print(\"Your word length is 4.... You have 20 secs\")\n",
    "        wordslist=['dog', 'walk', 'vomit', 'food', 'happy', 'fish', 'lunch', 'jazz', 'blue', 'rare', 'key']\n",
    "        break\n",
    "    if difficulty=='hard' or difficulty=='Hard' or difficulty=='HARD':\n",
    "        wordslist=['village', 'chicken', 'narwhal', 'fungus', 'donkey', 'strange', 'donate',]\n",
    "        break\n",
    "    if difficulty=='extreme' or difficulty=='Extreme' or difficulty=='EXTREME':\n",
    "        wordslist=['delectable', 'australopithecus', 'ubermensch', 'cattywampus', 'counterclockwise']\n",
    "        break\n",
    "    else:\n",
    "        print(\"Oops, that's not an answer. \")\n",
    "# If user picks hard\n",
    "    #length of word is 10\n",
    "    #set time limit\n",
    "        #if the time limit is over then print you ran out of time\n",
    "        #they can type play again or quit\n",
    "        #if quit then break\n",
    "        \n",
    "# Thats the standard ---------^ \n",
    "    \n",
    "    \n",
    "\n"
   ]
  },
  {
   "cell_type": "code",
   "execution_count": null,
   "metadata": {},
   "outputs": [],
   "source": []
  }
 ],
 "metadata": {
  "kernelspec": {
   "display_name": "Python 3",
   "language": "python",
   "name": "python3"
  },
  "language_info": {
   "codemirror_mode": {
    "name": "ipython",
    "version": 3
   },
   "file_extension": ".py",
   "mimetype": "text/x-python",
   "name": "python",
   "nbconvert_exporter": "python",
   "pygments_lexer": "ipython3",
   "version": "3.6.6"
  }
 },
 "nbformat": 4,
 "nbformat_minor": 2
}
